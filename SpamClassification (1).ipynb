{
  "nbformat": 4,
  "nbformat_minor": 0,
  "metadata": {
    "colab": {
      "provenance": []
    },
    "kernelspec": {
      "name": "python3",
      "display_name": "Python 3"
    },
    "language_info": {
      "name": "python"
    }
  },
  "cells": [
    {
      "cell_type": "markdown",
      "source": [
        "#1. Importing the libraries\n",
        "\n",
        "\n",
        "\n",
        "*   Pandas for data manipulation\n",
        "\n",
        "*   Sklearn for setting up the train-test split, importing TfIdfVectorizer, Support Vector Machine, classification report and confusion matrix\n",
        "*   Imblearn for importing SMOTE for resampling the data\n",
        "\n",
        "\n",
        "*   NumPy for numerical computations\n",
        "\n"
      ],
      "metadata": {
        "id": "3yqBO1ILZBCe"
      }
    },
    {
      "cell_type": "code",
      "source": [
        "from google.colab import files\n",
        "uploaded = files.upload()"
      ],
      "metadata": {
        "colab": {
          "base_uri": "https://localhost:8080/",
          "height": 73
        },
        "id": "J9yPuKDV6Yzp",
        "outputId": "14f1ff03-1594-4924-bca3-6b4023869d4d"
      },
      "execution_count": null,
      "outputs": [
        {
          "output_type": "display_data",
          "data": {
            "text/plain": [
              "<IPython.core.display.HTML object>"
            ],
            "text/html": [
              "\n",
              "     <input type=\"file\" id=\"files-ebf1dff5-8f5c-43f5-ba79-96424cc4e476\" name=\"files[]\" multiple disabled\n",
              "        style=\"border:none\" />\n",
              "     <output id=\"result-ebf1dff5-8f5c-43f5-ba79-96424cc4e476\">\n",
              "      Upload widget is only available when the cell has been executed in the\n",
              "      current browser session. Please rerun this cell to enable.\n",
              "      </output>\n",
              "      <script>// Copyright 2017 Google LLC\n",
              "//\n",
              "// Licensed under the Apache License, Version 2.0 (the \"License\");\n",
              "// you may not use this file except in compliance with the License.\n",
              "// You may obtain a copy of the License at\n",
              "//\n",
              "//      http://www.apache.org/licenses/LICENSE-2.0\n",
              "//\n",
              "// Unless required by applicable law or agreed to in writing, software\n",
              "// distributed under the License is distributed on an \"AS IS\" BASIS,\n",
              "// WITHOUT WARRANTIES OR CONDITIONS OF ANY KIND, either express or implied.\n",
              "// See the License for the specific language governing permissions and\n",
              "// limitations under the License.\n",
              "\n",
              "/**\n",
              " * @fileoverview Helpers for google.colab Python module.\n",
              " */\n",
              "(function(scope) {\n",
              "function span(text, styleAttributes = {}) {\n",
              "  const element = document.createElement('span');\n",
              "  element.textContent = text;\n",
              "  for (const key of Object.keys(styleAttributes)) {\n",
              "    element.style[key] = styleAttributes[key];\n",
              "  }\n",
              "  return element;\n",
              "}\n",
              "\n",
              "// Max number of bytes which will be uploaded at a time.\n",
              "const MAX_PAYLOAD_SIZE = 100 * 1024;\n",
              "\n",
              "function _uploadFiles(inputId, outputId) {\n",
              "  const steps = uploadFilesStep(inputId, outputId);\n",
              "  const outputElement = document.getElementById(outputId);\n",
              "  // Cache steps on the outputElement to make it available for the next call\n",
              "  // to uploadFilesContinue from Python.\n",
              "  outputElement.steps = steps;\n",
              "\n",
              "  return _uploadFilesContinue(outputId);\n",
              "}\n",
              "\n",
              "// This is roughly an async generator (not supported in the browser yet),\n",
              "// where there are multiple asynchronous steps and the Python side is going\n",
              "// to poll for completion of each step.\n",
              "// This uses a Promise to block the python side on completion of each step,\n",
              "// then passes the result of the previous step as the input to the next step.\n",
              "function _uploadFilesContinue(outputId) {\n",
              "  const outputElement = document.getElementById(outputId);\n",
              "  const steps = outputElement.steps;\n",
              "\n",
              "  const next = steps.next(outputElement.lastPromiseValue);\n",
              "  return Promise.resolve(next.value.promise).then((value) => {\n",
              "    // Cache the last promise value to make it available to the next\n",
              "    // step of the generator.\n",
              "    outputElement.lastPromiseValue = value;\n",
              "    return next.value.response;\n",
              "  });\n",
              "}\n",
              "\n",
              "/**\n",
              " * Generator function which is called between each async step of the upload\n",
              " * process.\n",
              " * @param {string} inputId Element ID of the input file picker element.\n",
              " * @param {string} outputId Element ID of the output display.\n",
              " * @return {!Iterable<!Object>} Iterable of next steps.\n",
              " */\n",
              "function* uploadFilesStep(inputId, outputId) {\n",
              "  const inputElement = document.getElementById(inputId);\n",
              "  inputElement.disabled = false;\n",
              "\n",
              "  const outputElement = document.getElementById(outputId);\n",
              "  outputElement.innerHTML = '';\n",
              "\n",
              "  const pickedPromise = new Promise((resolve) => {\n",
              "    inputElement.addEventListener('change', (e) => {\n",
              "      resolve(e.target.files);\n",
              "    });\n",
              "  });\n",
              "\n",
              "  const cancel = document.createElement('button');\n",
              "  inputElement.parentElement.appendChild(cancel);\n",
              "  cancel.textContent = 'Cancel upload';\n",
              "  const cancelPromise = new Promise((resolve) => {\n",
              "    cancel.onclick = () => {\n",
              "      resolve(null);\n",
              "    };\n",
              "  });\n",
              "\n",
              "  // Wait for the user to pick the files.\n",
              "  const files = yield {\n",
              "    promise: Promise.race([pickedPromise, cancelPromise]),\n",
              "    response: {\n",
              "      action: 'starting',\n",
              "    }\n",
              "  };\n",
              "\n",
              "  cancel.remove();\n",
              "\n",
              "  // Disable the input element since further picks are not allowed.\n",
              "  inputElement.disabled = true;\n",
              "\n",
              "  if (!files) {\n",
              "    return {\n",
              "      response: {\n",
              "        action: 'complete',\n",
              "      }\n",
              "    };\n",
              "  }\n",
              "\n",
              "  for (const file of files) {\n",
              "    const li = document.createElement('li');\n",
              "    li.append(span(file.name, {fontWeight: 'bold'}));\n",
              "    li.append(span(\n",
              "        `(${file.type || 'n/a'}) - ${file.size} bytes, ` +\n",
              "        `last modified: ${\n",
              "            file.lastModifiedDate ? file.lastModifiedDate.toLocaleDateString() :\n",
              "                                    'n/a'} - `));\n",
              "    const percent = span('0% done');\n",
              "    li.appendChild(percent);\n",
              "\n",
              "    outputElement.appendChild(li);\n",
              "\n",
              "    const fileDataPromise = new Promise((resolve) => {\n",
              "      const reader = new FileReader();\n",
              "      reader.onload = (e) => {\n",
              "        resolve(e.target.result);\n",
              "      };\n",
              "      reader.readAsArrayBuffer(file);\n",
              "    });\n",
              "    // Wait for the data to be ready.\n",
              "    let fileData = yield {\n",
              "      promise: fileDataPromise,\n",
              "      response: {\n",
              "        action: 'continue',\n",
              "      }\n",
              "    };\n",
              "\n",
              "    // Use a chunked sending to avoid message size limits. See b/62115660.\n",
              "    let position = 0;\n",
              "    do {\n",
              "      const length = Math.min(fileData.byteLength - position, MAX_PAYLOAD_SIZE);\n",
              "      const chunk = new Uint8Array(fileData, position, length);\n",
              "      position += length;\n",
              "\n",
              "      const base64 = btoa(String.fromCharCode.apply(null, chunk));\n",
              "      yield {\n",
              "        response: {\n",
              "          action: 'append',\n",
              "          file: file.name,\n",
              "          data: base64,\n",
              "        },\n",
              "      };\n",
              "\n",
              "      let percentDone = fileData.byteLength === 0 ?\n",
              "          100 :\n",
              "          Math.round((position / fileData.byteLength) * 100);\n",
              "      percent.textContent = `${percentDone}% done`;\n",
              "\n",
              "    } while (position < fileData.byteLength);\n",
              "  }\n",
              "\n",
              "  // All done.\n",
              "  yield {\n",
              "    response: {\n",
              "      action: 'complete',\n",
              "    }\n",
              "  };\n",
              "}\n",
              "\n",
              "scope.google = scope.google || {};\n",
              "scope.google.colab = scope.google.colab || {};\n",
              "scope.google.colab._files = {\n",
              "  _uploadFiles,\n",
              "  _uploadFilesContinue,\n",
              "};\n",
              "})(self);\n",
              "</script> "
            ]
          },
          "metadata": {}
        },
        {
          "output_type": "stream",
          "name": "stdout",
          "text": [
            "Saving spam.csv to spam.csv\n"
          ]
        }
      ]
    },
    {
      "cell_type": "code",
      "source": [
        "import pandas as pd\n",
        "from sklearn.model_selection import train_test_split\n",
        "from sklearn.feature_extraction.text import TfidfVectorizer\n",
        "from sklearn.svm import SVC\n",
        "from sklearn.metrics import classification_report, confusion_matrix\n",
        "from imblearn.over_sampling import SMOTE\n",
        "import numpy as np"
      ],
      "metadata": {
        "id": "S1JbX7EFZ9NZ"
      },
      "execution_count": null,
      "outputs": []
    },
    {
      "cell_type": "markdown",
      "source": [
        "#2. Loading the Dataset\n",
        "\n",
        "Here, we import the csv file named spam.csv into a pandas dataframe df\n",
        "\n",
        "*   encoding = 'utf-8': specifies the file's encoding, i.e, the way of reading and writing the data from the csv file should be in the widely used 'UTF-8' format\n",
        "*   encoding_erros = 'ignore': Ignores any encoding errors that might occur while reading the file\n",
        "\n"
      ],
      "metadata": {
        "id": "BL1ietVabd3E"
      }
    },
    {
      "cell_type": "code",
      "source": [
        "#Load dataset\n",
        "df = pd.read_csv('spam.csv', encoding = 'utf-8', encoding_errors = 'ignore')"
      ],
      "metadata": {
        "id": "4ODP0s94gMWT"
      },
      "execution_count": null,
      "outputs": []
    },
    {
      "cell_type": "code",
      "source": [
        "#overview of the dataset\n",
        "df.head()"
      ],
      "metadata": {
        "colab": {
          "base_uri": "https://localhost:8080/",
          "height": 206
        },
        "id": "W6Yn9r47hOdT",
        "outputId": "d46100ab-d597-4b52-8cbd-e0170e7a23c6"
      },
      "execution_count": null,
      "outputs": [
        {
          "output_type": "execute_result",
          "data": {
            "text/plain": [
              "     v1                                                 v2 Unnamed: 2  \\\n",
              "0   ham  Go until jurong point, crazy.. Available only ...        NaN   \n",
              "1   ham                      Ok lar... Joking wif u oni...        NaN   \n",
              "2  spam  Free entry in 2 a wkly comp to win FA Cup fina...        NaN   \n",
              "3   ham  U dun say so early hor... U c already then say...        NaN   \n",
              "4   ham  Nah I don't think he goes to usf, he lives aro...        NaN   \n",
              "\n",
              "  Unnamed: 3 Unnamed: 4  \n",
              "0        NaN        NaN  \n",
              "1        NaN        NaN  \n",
              "2        NaN        NaN  \n",
              "3        NaN        NaN  \n",
              "4        NaN        NaN  "
            ],
            "text/html": [
              "\n",
              "  <div id=\"df-5cecebc1-3200-421d-a213-cd7be096c11f\" class=\"colab-df-container\">\n",
              "    <div>\n",
              "<style scoped>\n",
              "    .dataframe tbody tr th:only-of-type {\n",
              "        vertical-align: middle;\n",
              "    }\n",
              "\n",
              "    .dataframe tbody tr th {\n",
              "        vertical-align: top;\n",
              "    }\n",
              "\n",
              "    .dataframe thead th {\n",
              "        text-align: right;\n",
              "    }\n",
              "</style>\n",
              "<table border=\"1\" class=\"dataframe\">\n",
              "  <thead>\n",
              "    <tr style=\"text-align: right;\">\n",
              "      <th></th>\n",
              "      <th>v1</th>\n",
              "      <th>v2</th>\n",
              "      <th>Unnamed: 2</th>\n",
              "      <th>Unnamed: 3</th>\n",
              "      <th>Unnamed: 4</th>\n",
              "    </tr>\n",
              "  </thead>\n",
              "  <tbody>\n",
              "    <tr>\n",
              "      <th>0</th>\n",
              "      <td>ham</td>\n",
              "      <td>Go until jurong point, crazy.. Available only ...</td>\n",
              "      <td>NaN</td>\n",
              "      <td>NaN</td>\n",
              "      <td>NaN</td>\n",
              "    </tr>\n",
              "    <tr>\n",
              "      <th>1</th>\n",
              "      <td>ham</td>\n",
              "      <td>Ok lar... Joking wif u oni...</td>\n",
              "      <td>NaN</td>\n",
              "      <td>NaN</td>\n",
              "      <td>NaN</td>\n",
              "    </tr>\n",
              "    <tr>\n",
              "      <th>2</th>\n",
              "      <td>spam</td>\n",
              "      <td>Free entry in 2 a wkly comp to win FA Cup fina...</td>\n",
              "      <td>NaN</td>\n",
              "      <td>NaN</td>\n",
              "      <td>NaN</td>\n",
              "    </tr>\n",
              "    <tr>\n",
              "      <th>3</th>\n",
              "      <td>ham</td>\n",
              "      <td>U dun say so early hor... U c already then say...</td>\n",
              "      <td>NaN</td>\n",
              "      <td>NaN</td>\n",
              "      <td>NaN</td>\n",
              "    </tr>\n",
              "    <tr>\n",
              "      <th>4</th>\n",
              "      <td>ham</td>\n",
              "      <td>Nah I don't think he goes to usf, he lives aro...</td>\n",
              "      <td>NaN</td>\n",
              "      <td>NaN</td>\n",
              "      <td>NaN</td>\n",
              "    </tr>\n",
              "  </tbody>\n",
              "</table>\n",
              "</div>\n",
              "    <div class=\"colab-df-buttons\">\n",
              "\n",
              "  <div class=\"colab-df-container\">\n",
              "    <button class=\"colab-df-convert\" onclick=\"convertToInteractive('df-5cecebc1-3200-421d-a213-cd7be096c11f')\"\n",
              "            title=\"Convert this dataframe to an interactive table.\"\n",
              "            style=\"display:none;\">\n",
              "\n",
              "  <svg xmlns=\"http://www.w3.org/2000/svg\" height=\"24px\" viewBox=\"0 -960 960 960\">\n",
              "    <path d=\"M120-120v-720h720v720H120Zm60-500h600v-160H180v160Zm220 220h160v-160H400v160Zm0 220h160v-160H400v160ZM180-400h160v-160H180v160Zm440 0h160v-160H620v160ZM180-180h160v-160H180v160Zm440 0h160v-160H620v160Z\"/>\n",
              "  </svg>\n",
              "    </button>\n",
              "\n",
              "  <style>\n",
              "    .colab-df-container {\n",
              "      display:flex;\n",
              "      gap: 12px;\n",
              "    }\n",
              "\n",
              "    .colab-df-convert {\n",
              "      background-color: #E8F0FE;\n",
              "      border: none;\n",
              "      border-radius: 50%;\n",
              "      cursor: pointer;\n",
              "      display: none;\n",
              "      fill: #1967D2;\n",
              "      height: 32px;\n",
              "      padding: 0 0 0 0;\n",
              "      width: 32px;\n",
              "    }\n",
              "\n",
              "    .colab-df-convert:hover {\n",
              "      background-color: #E2EBFA;\n",
              "      box-shadow: 0px 1px 2px rgba(60, 64, 67, 0.3), 0px 1px 3px 1px rgba(60, 64, 67, 0.15);\n",
              "      fill: #174EA6;\n",
              "    }\n",
              "\n",
              "    .colab-df-buttons div {\n",
              "      margin-bottom: 4px;\n",
              "    }\n",
              "\n",
              "    [theme=dark] .colab-df-convert {\n",
              "      background-color: #3B4455;\n",
              "      fill: #D2E3FC;\n",
              "    }\n",
              "\n",
              "    [theme=dark] .colab-df-convert:hover {\n",
              "      background-color: #434B5C;\n",
              "      box-shadow: 0px 1px 3px 1px rgba(0, 0, 0, 0.15);\n",
              "      filter: drop-shadow(0px 1px 2px rgba(0, 0, 0, 0.3));\n",
              "      fill: #FFFFFF;\n",
              "    }\n",
              "  </style>\n",
              "\n",
              "    <script>\n",
              "      const buttonEl =\n",
              "        document.querySelector('#df-5cecebc1-3200-421d-a213-cd7be096c11f button.colab-df-convert');\n",
              "      buttonEl.style.display =\n",
              "        google.colab.kernel.accessAllowed ? 'block' : 'none';\n",
              "\n",
              "      async function convertToInteractive(key) {\n",
              "        const element = document.querySelector('#df-5cecebc1-3200-421d-a213-cd7be096c11f');\n",
              "        const dataTable =\n",
              "          await google.colab.kernel.invokeFunction('convertToInteractive',\n",
              "                                                    [key], {});\n",
              "        if (!dataTable) return;\n",
              "\n",
              "        const docLinkHtml = 'Like what you see? Visit the ' +\n",
              "          '<a target=\"_blank\" href=https://colab.research.google.com/notebooks/data_table.ipynb>data table notebook</a>'\n",
              "          + ' to learn more about interactive tables.';\n",
              "        element.innerHTML = '';\n",
              "        dataTable['output_type'] = 'display_data';\n",
              "        await google.colab.output.renderOutput(dataTable, element);\n",
              "        const docLink = document.createElement('div');\n",
              "        docLink.innerHTML = docLinkHtml;\n",
              "        element.appendChild(docLink);\n",
              "      }\n",
              "    </script>\n",
              "  </div>\n",
              "\n",
              "\n",
              "<div id=\"df-f9b09f58-004d-4a50-ad33-7754f10d4063\">\n",
              "  <button class=\"colab-df-quickchart\" onclick=\"quickchart('df-f9b09f58-004d-4a50-ad33-7754f10d4063')\"\n",
              "            title=\"Suggest charts\"\n",
              "            style=\"display:none;\">\n",
              "\n",
              "<svg xmlns=\"http://www.w3.org/2000/svg\" height=\"24px\"viewBox=\"0 0 24 24\"\n",
              "     width=\"24px\">\n",
              "    <g>\n",
              "        <path d=\"M19 3H5c-1.1 0-2 .9-2 2v14c0 1.1.9 2 2 2h14c1.1 0 2-.9 2-2V5c0-1.1-.9-2-2-2zM9 17H7v-7h2v7zm4 0h-2V7h2v10zm4 0h-2v-4h2v4z\"/>\n",
              "    </g>\n",
              "</svg>\n",
              "  </button>\n",
              "\n",
              "<style>\n",
              "  .colab-df-quickchart {\n",
              "      --bg-color: #E8F0FE;\n",
              "      --fill-color: #1967D2;\n",
              "      --hover-bg-color: #E2EBFA;\n",
              "      --hover-fill-color: #174EA6;\n",
              "      --disabled-fill-color: #AAA;\n",
              "      --disabled-bg-color: #DDD;\n",
              "  }\n",
              "\n",
              "  [theme=dark] .colab-df-quickchart {\n",
              "      --bg-color: #3B4455;\n",
              "      --fill-color: #D2E3FC;\n",
              "      --hover-bg-color: #434B5C;\n",
              "      --hover-fill-color: #FFFFFF;\n",
              "      --disabled-bg-color: #3B4455;\n",
              "      --disabled-fill-color: #666;\n",
              "  }\n",
              "\n",
              "  .colab-df-quickchart {\n",
              "    background-color: var(--bg-color);\n",
              "    border: none;\n",
              "    border-radius: 50%;\n",
              "    cursor: pointer;\n",
              "    display: none;\n",
              "    fill: var(--fill-color);\n",
              "    height: 32px;\n",
              "    padding: 0;\n",
              "    width: 32px;\n",
              "  }\n",
              "\n",
              "  .colab-df-quickchart:hover {\n",
              "    background-color: var(--hover-bg-color);\n",
              "    box-shadow: 0 1px 2px rgba(60, 64, 67, 0.3), 0 1px 3px 1px rgba(60, 64, 67, 0.15);\n",
              "    fill: var(--button-hover-fill-color);\n",
              "  }\n",
              "\n",
              "  .colab-df-quickchart-complete:disabled,\n",
              "  .colab-df-quickchart-complete:disabled:hover {\n",
              "    background-color: var(--disabled-bg-color);\n",
              "    fill: var(--disabled-fill-color);\n",
              "    box-shadow: none;\n",
              "  }\n",
              "\n",
              "  .colab-df-spinner {\n",
              "    border: 2px solid var(--fill-color);\n",
              "    border-color: transparent;\n",
              "    border-bottom-color: var(--fill-color);\n",
              "    animation:\n",
              "      spin 1s steps(1) infinite;\n",
              "  }\n",
              "\n",
              "  @keyframes spin {\n",
              "    0% {\n",
              "      border-color: transparent;\n",
              "      border-bottom-color: var(--fill-color);\n",
              "      border-left-color: var(--fill-color);\n",
              "    }\n",
              "    20% {\n",
              "      border-color: transparent;\n",
              "      border-left-color: var(--fill-color);\n",
              "      border-top-color: var(--fill-color);\n",
              "    }\n",
              "    30% {\n",
              "      border-color: transparent;\n",
              "      border-left-color: var(--fill-color);\n",
              "      border-top-color: var(--fill-color);\n",
              "      border-right-color: var(--fill-color);\n",
              "    }\n",
              "    40% {\n",
              "      border-color: transparent;\n",
              "      border-right-color: var(--fill-color);\n",
              "      border-top-color: var(--fill-color);\n",
              "    }\n",
              "    60% {\n",
              "      border-color: transparent;\n",
              "      border-right-color: var(--fill-color);\n",
              "    }\n",
              "    80% {\n",
              "      border-color: transparent;\n",
              "      border-right-color: var(--fill-color);\n",
              "      border-bottom-color: var(--fill-color);\n",
              "    }\n",
              "    90% {\n",
              "      border-color: transparent;\n",
              "      border-bottom-color: var(--fill-color);\n",
              "    }\n",
              "  }\n",
              "</style>\n",
              "\n",
              "  <script>\n",
              "    async function quickchart(key) {\n",
              "      const quickchartButtonEl =\n",
              "        document.querySelector('#' + key + ' button');\n",
              "      quickchartButtonEl.disabled = true;  // To prevent multiple clicks.\n",
              "      quickchartButtonEl.classList.add('colab-df-spinner');\n",
              "      try {\n",
              "        const charts = await google.colab.kernel.invokeFunction(\n",
              "            'suggestCharts', [key], {});\n",
              "      } catch (error) {\n",
              "        console.error('Error during call to suggestCharts:', error);\n",
              "      }\n",
              "      quickchartButtonEl.classList.remove('colab-df-spinner');\n",
              "      quickchartButtonEl.classList.add('colab-df-quickchart-complete');\n",
              "    }\n",
              "    (() => {\n",
              "      let quickchartButtonEl =\n",
              "        document.querySelector('#df-f9b09f58-004d-4a50-ad33-7754f10d4063 button');\n",
              "      quickchartButtonEl.style.display =\n",
              "        google.colab.kernel.accessAllowed ? 'block' : 'none';\n",
              "    })();\n",
              "  </script>\n",
              "</div>\n",
              "\n",
              "    </div>\n",
              "  </div>\n"
            ],
            "application/vnd.google.colaboratory.intrinsic+json": {
              "type": "dataframe",
              "variable_name": "df",
              "summary": "{\n  \"name\": \"df\",\n  \"rows\": 5572,\n  \"fields\": [\n    {\n      \"column\": \"v1\",\n      \"properties\": {\n        \"dtype\": \"category\",\n        \"num_unique_values\": 2,\n        \"samples\": [\n          \"spam\",\n          \"ham\"\n        ],\n        \"semantic_type\": \"\",\n        \"description\": \"\"\n      }\n    },\n    {\n      \"column\": \"v2\",\n      \"properties\": {\n        \"dtype\": \"string\",\n        \"num_unique_values\": 5168,\n        \"samples\": [\n          \"Mm i had my food da from out\",\n          \"Somebody should go to andros and steal ice\"\n        ],\n        \"semantic_type\": \"\",\n        \"description\": \"\"\n      }\n    },\n    {\n      \"column\": \"Unnamed: 2\",\n      \"properties\": {\n        \"dtype\": \"category\",\n        \"num_unique_values\": 43,\n        \"samples\": [\n          \" GOD said\",\n          \" SHE SHUDVETOLD U. DID URGRAN KNOW?NEWAY\"\n        ],\n        \"semantic_type\": \"\",\n        \"description\": \"\"\n      }\n    },\n    {\n      \"column\": \"Unnamed: 3\",\n      \"properties\": {\n        \"dtype\": \"category\",\n        \"num_unique_values\": 10,\n        \"samples\": [\n          \" \\\\\\\"OH No! COMPETITION\\\\\\\". Who knew\",\n          \" why to miss them\"\n        ],\n        \"semantic_type\": \"\",\n        \"description\": \"\"\n      }\n    },\n    {\n      \"column\": \"Unnamed: 4\",\n      \"properties\": {\n        \"dtype\": \"category\",\n        \"num_unique_values\": 5,\n        \"samples\": [\n          \"GNT:-)\\\"\",\n          \" one day these two will become FREINDS FOREVER!\\\"\"\n        ],\n        \"semantic_type\": \"\",\n        \"description\": \"\"\n      }\n    }\n  ]\n}"
            }
          },
          "metadata": {},
          "execution_count": 4
        }
      ]
    },
    {
      "cell_type": "markdown",
      "source": [
        "#3. Preparing the data\n",
        "\n",
        "We just want two columns v1 and v2 of the data as the other features dont contribute much information"
      ],
      "metadata": {
        "id": "iDkKaPYAhgQo"
      }
    },
    {
      "cell_type": "code",
      "source": [
        "#Checking column names (assuming 'v1' is the label and 'v2' is the message)\n",
        "df.columns = ['label','message','Unnamed:2','Unnnamed:3','Unnamed:4']\n",
        "df = df[['label','message']] # only keep the necessary columns"
      ],
      "metadata": {
        "id": "HkKEiAB7h1lK"
      },
      "execution_count": null,
      "outputs": []
    },
    {
      "cell_type": "code",
      "source": [
        "df.head()"
      ],
      "metadata": {
        "colab": {
          "base_uri": "https://localhost:8080/",
          "height": 206
        },
        "id": "lJr5CVPqimNT",
        "outputId": "6c03d35b-ca5c-4e10-80d8-7cdc2f046798"
      },
      "execution_count": null,
      "outputs": [
        {
          "output_type": "execute_result",
          "data": {
            "text/plain": [
              "  label                                            message\n",
              "0   ham  Go until jurong point, crazy.. Available only ...\n",
              "1   ham                      Ok lar... Joking wif u oni...\n",
              "2  spam  Free entry in 2 a wkly comp to win FA Cup fina...\n",
              "3   ham  U dun say so early hor... U c already then say...\n",
              "4   ham  Nah I don't think he goes to usf, he lives aro..."
            ],
            "text/html": [
              "\n",
              "  <div id=\"df-c2ab7866-aed1-450d-bac5-85b62f161081\" class=\"colab-df-container\">\n",
              "    <div>\n",
              "<style scoped>\n",
              "    .dataframe tbody tr th:only-of-type {\n",
              "        vertical-align: middle;\n",
              "    }\n",
              "\n",
              "    .dataframe tbody tr th {\n",
              "        vertical-align: top;\n",
              "    }\n",
              "\n",
              "    .dataframe thead th {\n",
              "        text-align: right;\n",
              "    }\n",
              "</style>\n",
              "<table border=\"1\" class=\"dataframe\">\n",
              "  <thead>\n",
              "    <tr style=\"text-align: right;\">\n",
              "      <th></th>\n",
              "      <th>label</th>\n",
              "      <th>message</th>\n",
              "    </tr>\n",
              "  </thead>\n",
              "  <tbody>\n",
              "    <tr>\n",
              "      <th>0</th>\n",
              "      <td>ham</td>\n",
              "      <td>Go until jurong point, crazy.. Available only ...</td>\n",
              "    </tr>\n",
              "    <tr>\n",
              "      <th>1</th>\n",
              "      <td>ham</td>\n",
              "      <td>Ok lar... Joking wif u oni...</td>\n",
              "    </tr>\n",
              "    <tr>\n",
              "      <th>2</th>\n",
              "      <td>spam</td>\n",
              "      <td>Free entry in 2 a wkly comp to win FA Cup fina...</td>\n",
              "    </tr>\n",
              "    <tr>\n",
              "      <th>3</th>\n",
              "      <td>ham</td>\n",
              "      <td>U dun say so early hor... U c already then say...</td>\n",
              "    </tr>\n",
              "    <tr>\n",
              "      <th>4</th>\n",
              "      <td>ham</td>\n",
              "      <td>Nah I don't think he goes to usf, he lives aro...</td>\n",
              "    </tr>\n",
              "  </tbody>\n",
              "</table>\n",
              "</div>\n",
              "    <div class=\"colab-df-buttons\">\n",
              "\n",
              "  <div class=\"colab-df-container\">\n",
              "    <button class=\"colab-df-convert\" onclick=\"convertToInteractive('df-c2ab7866-aed1-450d-bac5-85b62f161081')\"\n",
              "            title=\"Convert this dataframe to an interactive table.\"\n",
              "            style=\"display:none;\">\n",
              "\n",
              "  <svg xmlns=\"http://www.w3.org/2000/svg\" height=\"24px\" viewBox=\"0 -960 960 960\">\n",
              "    <path d=\"M120-120v-720h720v720H120Zm60-500h600v-160H180v160Zm220 220h160v-160H400v160Zm0 220h160v-160H400v160ZM180-400h160v-160H180v160Zm440 0h160v-160H620v160ZM180-180h160v-160H180v160Zm440 0h160v-160H620v160Z\"/>\n",
              "  </svg>\n",
              "    </button>\n",
              "\n",
              "  <style>\n",
              "    .colab-df-container {\n",
              "      display:flex;\n",
              "      gap: 12px;\n",
              "    }\n",
              "\n",
              "    .colab-df-convert {\n",
              "      background-color: #E8F0FE;\n",
              "      border: none;\n",
              "      border-radius: 50%;\n",
              "      cursor: pointer;\n",
              "      display: none;\n",
              "      fill: #1967D2;\n",
              "      height: 32px;\n",
              "      padding: 0 0 0 0;\n",
              "      width: 32px;\n",
              "    }\n",
              "\n",
              "    .colab-df-convert:hover {\n",
              "      background-color: #E2EBFA;\n",
              "      box-shadow: 0px 1px 2px rgba(60, 64, 67, 0.3), 0px 1px 3px 1px rgba(60, 64, 67, 0.15);\n",
              "      fill: #174EA6;\n",
              "    }\n",
              "\n",
              "    .colab-df-buttons div {\n",
              "      margin-bottom: 4px;\n",
              "    }\n",
              "\n",
              "    [theme=dark] .colab-df-convert {\n",
              "      background-color: #3B4455;\n",
              "      fill: #D2E3FC;\n",
              "    }\n",
              "\n",
              "    [theme=dark] .colab-df-convert:hover {\n",
              "      background-color: #434B5C;\n",
              "      box-shadow: 0px 1px 3px 1px rgba(0, 0, 0, 0.15);\n",
              "      filter: drop-shadow(0px 1px 2px rgba(0, 0, 0, 0.3));\n",
              "      fill: #FFFFFF;\n",
              "    }\n",
              "  </style>\n",
              "\n",
              "    <script>\n",
              "      const buttonEl =\n",
              "        document.querySelector('#df-c2ab7866-aed1-450d-bac5-85b62f161081 button.colab-df-convert');\n",
              "      buttonEl.style.display =\n",
              "        google.colab.kernel.accessAllowed ? 'block' : 'none';\n",
              "\n",
              "      async function convertToInteractive(key) {\n",
              "        const element = document.querySelector('#df-c2ab7866-aed1-450d-bac5-85b62f161081');\n",
              "        const dataTable =\n",
              "          await google.colab.kernel.invokeFunction('convertToInteractive',\n",
              "                                                    [key], {});\n",
              "        if (!dataTable) return;\n",
              "\n",
              "        const docLinkHtml = 'Like what you see? Visit the ' +\n",
              "          '<a target=\"_blank\" href=https://colab.research.google.com/notebooks/data_table.ipynb>data table notebook</a>'\n",
              "          + ' to learn more about interactive tables.';\n",
              "        element.innerHTML = '';\n",
              "        dataTable['output_type'] = 'display_data';\n",
              "        await google.colab.output.renderOutput(dataTable, element);\n",
              "        const docLink = document.createElement('div');\n",
              "        docLink.innerHTML = docLinkHtml;\n",
              "        element.appendChild(docLink);\n",
              "      }\n",
              "    </script>\n",
              "  </div>\n",
              "\n",
              "\n",
              "<div id=\"df-cd908b3c-3e54-42a1-a8d5-9af4828a18de\">\n",
              "  <button class=\"colab-df-quickchart\" onclick=\"quickchart('df-cd908b3c-3e54-42a1-a8d5-9af4828a18de')\"\n",
              "            title=\"Suggest charts\"\n",
              "            style=\"display:none;\">\n",
              "\n",
              "<svg xmlns=\"http://www.w3.org/2000/svg\" height=\"24px\"viewBox=\"0 0 24 24\"\n",
              "     width=\"24px\">\n",
              "    <g>\n",
              "        <path d=\"M19 3H5c-1.1 0-2 .9-2 2v14c0 1.1.9 2 2 2h14c1.1 0 2-.9 2-2V5c0-1.1-.9-2-2-2zM9 17H7v-7h2v7zm4 0h-2V7h2v10zm4 0h-2v-4h2v4z\"/>\n",
              "    </g>\n",
              "</svg>\n",
              "  </button>\n",
              "\n",
              "<style>\n",
              "  .colab-df-quickchart {\n",
              "      --bg-color: #E8F0FE;\n",
              "      --fill-color: #1967D2;\n",
              "      --hover-bg-color: #E2EBFA;\n",
              "      --hover-fill-color: #174EA6;\n",
              "      --disabled-fill-color: #AAA;\n",
              "      --disabled-bg-color: #DDD;\n",
              "  }\n",
              "\n",
              "  [theme=dark] .colab-df-quickchart {\n",
              "      --bg-color: #3B4455;\n",
              "      --fill-color: #D2E3FC;\n",
              "      --hover-bg-color: #434B5C;\n",
              "      --hover-fill-color: #FFFFFF;\n",
              "      --disabled-bg-color: #3B4455;\n",
              "      --disabled-fill-color: #666;\n",
              "  }\n",
              "\n",
              "  .colab-df-quickchart {\n",
              "    background-color: var(--bg-color);\n",
              "    border: none;\n",
              "    border-radius: 50%;\n",
              "    cursor: pointer;\n",
              "    display: none;\n",
              "    fill: var(--fill-color);\n",
              "    height: 32px;\n",
              "    padding: 0;\n",
              "    width: 32px;\n",
              "  }\n",
              "\n",
              "  .colab-df-quickchart:hover {\n",
              "    background-color: var(--hover-bg-color);\n",
              "    box-shadow: 0 1px 2px rgba(60, 64, 67, 0.3), 0 1px 3px 1px rgba(60, 64, 67, 0.15);\n",
              "    fill: var(--button-hover-fill-color);\n",
              "  }\n",
              "\n",
              "  .colab-df-quickchart-complete:disabled,\n",
              "  .colab-df-quickchart-complete:disabled:hover {\n",
              "    background-color: var(--disabled-bg-color);\n",
              "    fill: var(--disabled-fill-color);\n",
              "    box-shadow: none;\n",
              "  }\n",
              "\n",
              "  .colab-df-spinner {\n",
              "    border: 2px solid var(--fill-color);\n",
              "    border-color: transparent;\n",
              "    border-bottom-color: var(--fill-color);\n",
              "    animation:\n",
              "      spin 1s steps(1) infinite;\n",
              "  }\n",
              "\n",
              "  @keyframes spin {\n",
              "    0% {\n",
              "      border-color: transparent;\n",
              "      border-bottom-color: var(--fill-color);\n",
              "      border-left-color: var(--fill-color);\n",
              "    }\n",
              "    20% {\n",
              "      border-color: transparent;\n",
              "      border-left-color: var(--fill-color);\n",
              "      border-top-color: var(--fill-color);\n",
              "    }\n",
              "    30% {\n",
              "      border-color: transparent;\n",
              "      border-left-color: var(--fill-color);\n",
              "      border-top-color: var(--fill-color);\n",
              "      border-right-color: var(--fill-color);\n",
              "    }\n",
              "    40% {\n",
              "      border-color: transparent;\n",
              "      border-right-color: var(--fill-color);\n",
              "      border-top-color: var(--fill-color);\n",
              "    }\n",
              "    60% {\n",
              "      border-color: transparent;\n",
              "      border-right-color: var(--fill-color);\n",
              "    }\n",
              "    80% {\n",
              "      border-color: transparent;\n",
              "      border-right-color: var(--fill-color);\n",
              "      border-bottom-color: var(--fill-color);\n",
              "    }\n",
              "    90% {\n",
              "      border-color: transparent;\n",
              "      border-bottom-color: var(--fill-color);\n",
              "    }\n",
              "  }\n",
              "</style>\n",
              "\n",
              "  <script>\n",
              "    async function quickchart(key) {\n",
              "      const quickchartButtonEl =\n",
              "        document.querySelector('#' + key + ' button');\n",
              "      quickchartButtonEl.disabled = true;  // To prevent multiple clicks.\n",
              "      quickchartButtonEl.classList.add('colab-df-spinner');\n",
              "      try {\n",
              "        const charts = await google.colab.kernel.invokeFunction(\n",
              "            'suggestCharts', [key], {});\n",
              "      } catch (error) {\n",
              "        console.error('Error during call to suggestCharts:', error);\n",
              "      }\n",
              "      quickchartButtonEl.classList.remove('colab-df-spinner');\n",
              "      quickchartButtonEl.classList.add('colab-df-quickchart-complete');\n",
              "    }\n",
              "    (() => {\n",
              "      let quickchartButtonEl =\n",
              "        document.querySelector('#df-cd908b3c-3e54-42a1-a8d5-9af4828a18de button');\n",
              "      quickchartButtonEl.style.display =\n",
              "        google.colab.kernel.accessAllowed ? 'block' : 'none';\n",
              "    })();\n",
              "  </script>\n",
              "</div>\n",
              "\n",
              "    </div>\n",
              "  </div>\n"
            ],
            "application/vnd.google.colaboratory.intrinsic+json": {
              "type": "dataframe",
              "variable_name": "df",
              "summary": "{\n  \"name\": \"df\",\n  \"rows\": 5572,\n  \"fields\": [\n    {\n      \"column\": \"label\",\n      \"properties\": {\n        \"dtype\": \"category\",\n        \"num_unique_values\": 2,\n        \"samples\": [\n          \"spam\",\n          \"ham\"\n        ],\n        \"semantic_type\": \"\",\n        \"description\": \"\"\n      }\n    },\n    {\n      \"column\": \"message\",\n      \"properties\": {\n        \"dtype\": \"string\",\n        \"num_unique_values\": 5168,\n        \"samples\": [\n          \"Mm i had my food da from out\",\n          \"Somebody should go to andros and steal ice\"\n        ],\n        \"semantic_type\": \"\",\n        \"description\": \"\"\n      }\n    }\n  ]\n}"
            }
          },
          "metadata": {},
          "execution_count": 6
        }
      ]
    },
    {
      "source": [
        "import seaborn as sns\n",
        "sns.countplot(df['label'])"
      ],
      "cell_type": "code",
      "execution_count": null,
      "outputs": [
        {
          "output_type": "execute_result",
          "data": {
            "text/plain": [
              "<Axes: xlabel='count', ylabel='label'>"
            ]
          },
          "metadata": {},
          "execution_count": 7
        },
        {
          "output_type": "display_data",
          "data": {
            "text/plain": [
              "<Figure size 640x480 with 1 Axes>"
            ],
            "image/png": "[encoded data removed]"
          },
          "metadata": {}
        }
      ],
      "metadata": {
        "colab": {
          "base_uri": "https://localhost:8080/",
          "height": 466
        },
        "id": "K4VNfeUl8Cud",
        "outputId": "845c829c-6bd2-40fc-c79d-3b7472f3e312"
      }
    },
    {
      "cell_type": "code",
      "source": [
        "df['label'].value_counts(normalize = True) #we want to know the proportion of spam and ham values"
      ],
      "metadata": {
        "colab": {
          "base_uri": "https://localhost:8080/",
          "height": 178
        },
        "id": "a3TeR-nEitT6",
        "outputId": "a43aea09-9912-4923-bd9f-a97842ec2982"
      },
      "execution_count": null,
      "outputs": [
        {
          "output_type": "execute_result",
          "data": {
            "text/plain": [
              "label\n",
              "ham     0.865937\n",
              "spam    0.134063\n",
              "Name: proportion, dtype: float64"
            ],
            "text/html": [
              "<div>\n",
              "<style scoped>\n",
              "    .dataframe tbody tr th:only-of-type {\n",
              "        vertical-align: middle;\n",
              "    }\n",
              "\n",
              "    .dataframe tbody tr th {\n",
              "        vertical-align: top;\n",
              "    }\n",
              "\n",
              "    .dataframe thead th {\n",
              "        text-align: right;\n",
              "    }\n",
              "</style>\n",
              "<table border=\"1\" class=\"dataframe\">\n",
              "  <thead>\n",
              "    <tr style=\"text-align: right;\">\n",
              "      <th></th>\n",
              "      <th>proportion</th>\n",
              "    </tr>\n",
              "    <tr>\n",
              "      <th>label</th>\n",
              "      <th></th>\n",
              "    </tr>\n",
              "  </thead>\n",
              "  <tbody>\n",
              "    <tr>\n",
              "      <th>ham</th>\n",
              "      <td>0.865937</td>\n",
              "    </tr>\n",
              "    <tr>\n",
              "      <th>spam</th>\n",
              "      <td>0.134063</td>\n",
              "    </tr>\n",
              "  </tbody>\n",
              "</table>\n",
              "</div><br><label><b>dtype:</b> float64</label>"
            ]
          },
          "metadata": {},
          "execution_count": 8
        }
      ]
    },
    {
      "cell_type": "markdown",
      "source": [
        "#4. Splitting the Data into training and testing sets\n",
        "The train_test_split function is used to split the dataset into training and testing sets\n",
        "\n",
        "*   test_size = 0.25: specifies that 25% of the data will be used for training and 95% of the data will be used for testing\n",
        "*   stratify = df['label]: Ensures that the proportion of spam vs ham messages is maintained in both training and test sets for efficient training and prediction\n",
        "\n",
        "\n"
      ],
      "metadata": {
        "id": "b7HCIsFtjOJR"
      }
    },
    {
      "cell_type": "code",
      "source": [
        "#Stratified train-test split\n",
        "X_train, X_test, y_train, y_test = train_test_split(df['message'],df['label'],test_size = 0.25, stratify=df['label'],random_state = 42)"
      ],
      "metadata": {
        "id": "uq1OYSuAm98x"
      },
      "execution_count": null,
      "outputs": []
    },
    {
      "cell_type": "markdown",
      "source": [
        "#5. Vectorizing the Text Data\n",
        "\n",
        "We vectorize the data so as to convert the words(categorical values) to numbers(continuous values) so as to allow the model to efficiently process the data\n",
        "1.   TfidfVectorizer(stop_words='english',ngram_range=(1,3),max_df=0.2): Initializes a Tfidfvectorizer, which converts the text into a matrix of token counts(based on their importance), ignoring the less relevant words like is,are etc.\n",
        "1.   fit_transform(X_train): learns the vocabulary from the training set and transforms the training text data into a sparse matrix of token counts\n",
        "2.   transform(X_test): Transforms the test text data into the same matrix format, using the vocabulary learnt from the training data\n",
        "\n",
        "\n",
        "\n",
        "\n"
      ],
      "metadata": {
        "id": "iwa7uADTojb8"
      }
    },
    {
      "cell_type": "code",
      "source": [
        "#using the tfidf vectorizer\n",
        "tfidf_vectorizer = TfidfVectorizer(stop_words='english',ngram_range=(1,3),max_df=0.2)\n",
        "X_train_count = tfidf_vectorizer.fit_transform(X_train)\n",
        "X_test_count = tfidf_vectorizer.transform(X_test)"
      ],
      "metadata": {
        "id": "BlszZfnX3NOo"
      },
      "execution_count": null,
      "outputs": []
    },
    {
      "cell_type": "code",
      "source": [
        "X_train_count.todense() #view of the sparse matrix"
      ],
      "metadata": {
        "colab": {
          "base_uri": "https://localhost:8080/"
        },
        "id": "dc8hg_nK3yq4",
        "outputId": "797033d0-0a2b-4234-e375-89f7d0adedc8"
      },
      "execution_count": null,
      "outputs": [
        {
          "output_type": "execute_result",
          "data": {
            "text/plain": [
              "matrix([[0., 0., 0., ..., 0., 0., 0.],\n",
              "        [0., 0., 0., ..., 0., 0., 0.],\n",
              "        [0., 0., 0., ..., 0., 0., 0.],\n",
              "        ...,\n",
              "        [0., 0., 0., ..., 0., 0., 0.],\n",
              "        [0., 0., 0., ..., 0., 0., 0.],\n",
              "        [0., 0., 0., ..., 0., 0., 0.]])"
            ]
          },
          "metadata": {},
          "execution_count": 69
        }
      ]
    },
    {
      "cell_type": "code",
      "source": [
        "y_train.value_counts(normalize=True) #checking whether the proportion is maintained"
      ],
      "metadata": {
        "colab": {
          "base_uri": "https://localhost:8080/",
          "height": 178
        },
        "id": "85lsD469399G",
        "outputId": "c2708d94-fe2d-47cd-d052-7147661d4a6a"
      },
      "execution_count": null,
      "outputs": [
        {
          "output_type": "execute_result",
          "data": {
            "text/plain": [
              "label\n",
              "ham     0.865997\n",
              "spam    0.134003\n",
              "Name: proportion, dtype: float64"
            ],
            "text/html": [
              "<div>\n",
              "<style scoped>\n",
              "    .dataframe tbody tr th:only-of-type {\n",
              "        vertical-align: middle;\n",
              "    }\n",
              "\n",
              "    .dataframe tbody tr th {\n",
              "        vertical-align: top;\n",
              "    }\n",
              "\n",
              "    .dataframe thead th {\n",
              "        text-align: right;\n",
              "    }\n",
              "</style>\n",
              "<table border=\"1\" class=\"dataframe\">\n",
              "  <thead>\n",
              "    <tr style=\"text-align: right;\">\n",
              "      <th></th>\n",
              "      <th>proportion</th>\n",
              "    </tr>\n",
              "    <tr>\n",
              "      <th>label</th>\n",
              "      <th></th>\n",
              "    </tr>\n",
              "  </thead>\n",
              "  <tbody>\n",
              "    <tr>\n",
              "      <th>ham</th>\n",
              "      <td>0.865997</td>\n",
              "    </tr>\n",
              "    <tr>\n",
              "      <th>spam</th>\n",
              "      <td>0.134003</td>\n",
              "    </tr>\n",
              "  </tbody>\n",
              "</table>\n",
              "</div><br><label><b>dtype:</b> float64</label>"
            ]
          },
          "metadata": {},
          "execution_count": 70
        }
      ]
    },
    {
      "cell_type": "markdown",
      "source": [
        "#6.Applying SMOTE to Handle Class Imbalance\n",
        "Smote(Synthetic Minority Over-Sampling Technique) is used to resample,i.e, feed the similar data again and again for the model to learn effectively. It addresses class imbalance in datasets. The same data is not fed rather an interpolation between minority class examples are fed.\n",
        "\n",
        "\n",
        "*   SMOTE(sampling_strategy='minority',random_state = 42): Creates an instance of SMOTE with a random state for reproducibility\n",
        "*   fit_resample(X_train_count, y_train):\n",
        "Applies SMOTE to the training data:\n",
        "\n",
        "1.   X_train_count = The vectorized text data of the training set\n",
        "2.   y_train = The labels(spam/ham) of the training set\n",
        "\n",
        "1.   X_train_smote, y_train_smote: Outputs the new balanced training set after adding synthetic examples to the minority class\n",
        "\n",
        "\n",
        "\n",
        "\n",
        "\n",
        "\n",
        "\n",
        "\n",
        "\n",
        "\n",
        "\n",
        "\n",
        "\n",
        "\n",
        "\n",
        "\n"
      ],
      "metadata": {
        "id": "zRluqDGJ5cwI"
      }
    },
    {
      "cell_type": "code",
      "source": [
        "#Apply SMOTE to the training set\n",
        "smote = SMOTE(sampling_strategy='minority',random_state = 42)\n",
        "X_train_smote, y_train_smote = smote.fit_resample(X_train_count, y_train)"
      ],
      "metadata": {
        "id": "SniaDdqLi8lT"
      },
      "execution_count": null,
      "outputs": []
    },
    {
      "cell_type": "code",
      "source": [
        "y_train_smote.value_counts(normalize=True) #equal proportions of data"
      ],
      "metadata": {
        "colab": {
          "base_uri": "https://localhost:8080/",
          "height": 178
        },
        "id": "cLIZxI4rj-tN",
        "outputId": "6320c064-8746-43c5-f0e5-3185d2c57c2f"
      },
      "execution_count": null,
      "outputs": [
        {
          "output_type": "execute_result",
          "data": {
            "text/plain": [
              "label\n",
              "ham     0.5\n",
              "spam    0.5\n",
              "Name: proportion, dtype: float64"
            ],
            "text/html": [
              "<div>\n",
              "<style scoped>\n",
              "    .dataframe tbody tr th:only-of-type {\n",
              "        vertical-align: middle;\n",
              "    }\n",
              "\n",
              "    .dataframe tbody tr th {\n",
              "        vertical-align: top;\n",
              "    }\n",
              "\n",
              "    .dataframe thead th {\n",
              "        text-align: right;\n",
              "    }\n",
              "</style>\n",
              "<table border=\"1\" class=\"dataframe\">\n",
              "  <thead>\n",
              "    <tr style=\"text-align: right;\">\n",
              "      <th></th>\n",
              "      <th>proportion</th>\n",
              "    </tr>\n",
              "    <tr>\n",
              "      <th>label</th>\n",
              "      <th></th>\n",
              "    </tr>\n",
              "  </thead>\n",
              "  <tbody>\n",
              "    <tr>\n",
              "      <th>ham</th>\n",
              "      <td>0.5</td>\n",
              "    </tr>\n",
              "    <tr>\n",
              "      <th>spam</th>\n",
              "      <td>0.5</td>\n",
              "    </tr>\n",
              "  </tbody>\n",
              "</table>\n",
              "</div><br><label><b>dtype:</b> float64</label>"
            ]
          },
          "metadata": {},
          "execution_count": 72
        }
      ]
    },
    {
      "cell_type": "markdown",
      "source": [
        "#7.Training the SVM Model\n",
        "\n",
        "\n",
        "*   SVC(kernel='linear', random_state=42): initializes an SVM classifier with a linear kernel(linear boundary separating the two categories)\n",
        "*   fit(X_train_smote, y_train_smote):\n",
        "Trains the Support Vector machine using the SMOTE balanced training data\n",
        "\n"
      ],
      "metadata": {
        "id": "7Y3WEos1lRM6"
      }
    },
    {
      "cell_type": "code",
      "source": [
        "#Train the SVM Model\n",
        "svm_model = SVC(kernel='linear',random_state = 42)\n",
        "svm_model.fit(X_train_smote,y_train_smote)\n"
      ],
      "metadata": {
        "colab": {
          "base_uri": "https://localhost:8080/",
          "height": 74
        },
        "id": "oEOWScOn2PEn",
        "outputId": "5dc1f23f-744c-477c-ea23-7ab2e1b06d7a"
      },
      "execution_count": null,
      "outputs": [
        {
          "output_type": "execute_result",
          "data": {
            "text/plain": [
              "SVC(kernel='linear', random_state=42)"
            ],
            "text/html": [
              "<style>#sk-container-id-7 {color: black;}#sk-container-id-7 pre{padding: 0;}#sk-container-id-7 div.sk-toggleable {background-color: white;}#sk-container-id-7 label.sk-toggleable__label {cursor: pointer;display: block;width: 100%;margin-bottom: 0;padding: 0.3em;box-sizing: border-box;text-align: center;}#sk-container-id-7 label.sk-toggleable__label-arrow:before {content: \"▸\";float: left;margin-right: 0.25em;color: #696969;}#sk-container-id-7 label.sk-toggleable__label-arrow:hover:before {color: black;}#sk-container-id-7 div.sk-estimator:hover label.sk-toggleable__label-arrow:before {color: black;}#sk-container-id-7 div.sk-toggleable__content {max-height: 0;max-width: 0;overflow: hidden;text-align: left;background-color: #f0f8ff;}#sk-container-id-7 div.sk-toggleable__content pre {margin: 0.2em;color: black;border-radius: 0.25em;background-color: #f0f8ff;}#sk-container-id-7 input.sk-toggleable__control:checked~div.sk-toggleable__content {max-height: 200px;max-width: 100%;overflow: auto;}#sk-container-id-7 input.sk-toggleable__control:checked~label.sk-toggleable__label-arrow:before {content: \"▾\";}#sk-container-id-7 div.sk-estimator input.sk-toggleable__control:checked~label.sk-toggleable__label {background-color: #d4ebff;}#sk-container-id-7 div.sk-label input.sk-toggleable__control:checked~label.sk-toggleable__label {background-color: #d4ebff;}#sk-container-id-7 input.sk-hidden--visually {border: 0;clip: rect(1px 1px 1px 1px);clip: rect(1px, 1px, 1px, 1px);height: 1px;margin: -1px;overflow: hidden;padding: 0;position: absolute;width: 1px;}#sk-container-id-7 div.sk-estimator {font-family: monospace;background-color: #f0f8ff;border: 1px dotted black;border-radius: 0.25em;box-sizing: border-box;margin-bottom: 0.5em;}#sk-container-id-7 div.sk-estimator:hover {background-color: #d4ebff;}#sk-container-id-7 div.sk-parallel-item::after {content: \"\";width: 100%;border-bottom: 1px solid gray;flex-grow: 1;}#sk-container-id-7 div.sk-label:hover label.sk-toggleable__label {background-color: #d4ebff;}#sk-container-id-7 div.sk-serial::before {content: \"\";position: absolute;border-left: 1px solid gray;box-sizing: border-box;top: 0;bottom: 0;left: 50%;z-index: 0;}#sk-container-id-7 div.sk-serial {display: flex;flex-direction: column;align-items: center;background-color: white;padding-right: 0.2em;padding-left: 0.2em;position: relative;}#sk-container-id-7 div.sk-item {position: relative;z-index: 1;}#sk-container-id-7 div.sk-parallel {display: flex;align-items: stretch;justify-content: center;background-color: white;position: relative;}#sk-container-id-7 div.sk-item::before, #sk-container-id-7 div.sk-parallel-item::before {content: \"\";position: absolute;border-left: 1px solid gray;box-sizing: border-box;top: 0;bottom: 0;left: 50%;z-index: -1;}#sk-container-id-7 div.sk-parallel-item {display: flex;flex-direction: column;z-index: 1;position: relative;background-color: white;}#sk-container-id-7 div.sk-parallel-item:first-child::after {align-self: flex-end;width: 50%;}#sk-container-id-7 div.sk-parallel-item:last-child::after {align-self: flex-start;width: 50%;}#sk-container-id-7 div.sk-parallel-item:only-child::after {width: 0;}#sk-container-id-7 div.sk-dashed-wrapped {border: 1px dashed gray;margin: 0 0.4em 0.5em 0.4em;box-sizing: border-box;padding-bottom: 0.4em;background-color: white;}#sk-container-id-7 div.sk-label label {font-family: monospace;font-weight: bold;display: inline-block;line-height: 1.2em;}#sk-container-id-7 div.sk-label-container {text-align: center;}#sk-container-id-7 div.sk-container {/* jupyter's `normalize.less` sets `[hidden] { display: none; }` but bootstrap.min.css set `[hidden] { display: none !important; }` so we also need the `!important` here to be able to override the default hidden behavior on the sphinx rendered scikit-learn.org. See: https://github.com/scikit-learn/scikit-learn/issues/21755 */display: inline-block !important;position: relative;}#sk-container-id-7 div.sk-text-repr-fallback {display: none;}</style><div id=\"sk-container-id-7\" class=\"sk-top-container\"><div class=\"sk-text-repr-fallback\"><pre>SVC(kernel=&#x27;linear&#x27;, random_state=42)</pre><b>In a Jupyter environment, please rerun this cell to show the HTML representation or trust the notebook. <br />On GitHub, the HTML representation is unable to render, please try loading this page with nbviewer.org.</b></div><div class=\"sk-container\" hidden><div class=\"sk-item\"><div class=\"sk-estimator sk-toggleable\"><input class=\"sk-toggleable__control sk-hidden--visually\" id=\"sk-estimator-id-7\" type=\"checkbox\" checked><label for=\"sk-estimator-id-7\" class=\"sk-toggleable__label sk-toggleable__label-arrow\">SVC</label><div class=\"sk-toggleable__content\"><pre>SVC(kernel=&#x27;linear&#x27;, random_state=42)</pre></div></div></div></div></div>"
            ]
          },
          "metadata": {},
          "execution_count": 73
        }
      ]
    },
    {
      "cell_type": "code",
      "source": [
        "#Making predictions\n",
        "y_pred = svm_model.predict(X_test_count)"
      ],
      "metadata": {
        "id": "o0vWkJHb2gYQ"
      },
      "execution_count": null,
      "outputs": []
    },
    {
      "cell_type": "markdown",
      "source": [
        "#8.Evaluating the model\n",
        "![image.png](data:image/png;base64,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)"
      ],
      "metadata": {
        "id": "pYJvdiWm3gvd"
      }
    },
    {
      "cell_type": "code",
      "source": [
        "#Evaluate the model\n",
        "print(\"Classification Report:\\n\", classification_report(y_test, y_pred, digits=4))\n",
        "print(\"Confusion Matrix:\\n\", confusion_matrix(y_test,y_pred))"
      ],
      "metadata": {
        "colab": {
          "base_uri": "https://localhost:8080/"
        },
        "id": "MLihL2SL3rgh",
        "outputId": "99e49864-936c-491b-b2a4-f3843cce8b0d"
      },
      "execution_count": null,
      "outputs": [
        {
          "output_type": "stream",
          "name": "stdout",
          "text": [
            "Classification Report:\n",
            "               precision    recall  f1-score   support\n",
            "\n",
            "         ham     0.9901    0.9967    0.9934      1206\n",
            "        spam     0.9777    0.9358    0.9563       187\n",
            "\n",
            "    accuracy                         0.9885      1393\n",
            "   macro avg     0.9839    0.9663    0.9748      1393\n",
            "weighted avg     0.9884    0.9885    0.9884      1393\n",
            "\n",
            "Confusion Matrix:\n",
            " [[1202    4]\n",
            " [  12  175]]\n"
          ]
        }
      ]
    }
  ]
}